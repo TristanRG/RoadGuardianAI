{
 "cells": [
  {
   "cell_type": "code",
   "execution_count": 1,
   "id": "265ff799",
   "metadata": {},
   "outputs": [],
   "source": [
    "import pandas as pd\n",
    "import numpy as np\n",
    "from pathlib import Path\n",
    "\n",
    "HORIZON_HOURS = 1\n",
    "HORIZON = pd.Timedelta(hours=HORIZON_HOURS)\n",
    "\n",
    "TRAIN_PARQUET = Path(\"../data/processed/train_with_hist_shifted_v2.parquet\")\n",
    "TEST_PARQUET  = Path(\"../data/processed/test_with_hist_shifted_v2.parquet\")\n",
    "OUT_DIR = Path(\"../data/processed\")\n",
    "OUT_DIR.mkdir(parents=True, exist_ok=True)"
   ]
  },
  {
   "cell_type": "code",
   "execution_count": 2,
   "id": "410f1344",
   "metadata": {},
   "outputs": [
    {
     "ename": "NameError",
     "evalue": "name 'python' is not defined",
     "output_type": "error",
     "traceback": [
      "\u001b[1;31m---------------------------------------------------------------------------\u001b[0m",
      "\u001b[1;31mNameError\u001b[0m                                 Traceback (most recent call last)",
      "Cell \u001b[1;32mIn[2], line 20\u001b[0m\n\u001b[0;32m     18\u001b[0m full \u001b[38;5;241m=\u001b[39m pd\u001b[38;5;241m.\u001b[39mconcat([train, test], ignore_index\u001b[38;5;241m=\u001b[39m\u001b[38;5;28;01mTrue\u001b[39;00m, sort\u001b[38;5;241m=\u001b[39m\u001b[38;5;28;01mFalse\u001b[39;00m)\n\u001b[0;32m     19\u001b[0m full \u001b[38;5;241m=\u001b[39m full\u001b[38;5;241m.\u001b[39msort_values(\u001b[38;5;124m\"\u001b[39m\u001b[38;5;124mts\u001b[39m\u001b[38;5;124m\"\u001b[39m)\u001b[38;5;241m.\u001b[39mreset_index(drop\u001b[38;5;241m=\u001b[39m\u001b[38;5;28;01mTrue\u001b[39;00m)\n\u001b[1;32m---> 20\u001b[0m \u001b[43mpython\u001b[49m\n\u001b[0;32m     21\u001b[0m Copy\n\u001b[0;32m     22\u001b[0m Edit\n",
      "\u001b[1;31mNameError\u001b[0m: name 'python' is not defined"
     ]
    }
   ],
   "source": [
    "train = pd.read_parquet(TRAIN_PARQUET)\n",
    "test  = pd.read_parquet(TEST_PARQUET)\n",
    "\n",
    "train = train.copy()\n",
    "test  = test.copy()\n",
    "\n",
    "train[\"__origin\"] = \"train\"\n",
    "test[\"__origin\"]  = \"test\"\n",
    "\n",
    "if \"ts\" not in train.columns:\n",
    "    train[\"ts\"] = pd.to_datetime(train[\"window_start\"])\n",
    "if \"ts\" not in test.columns:\n",
    "    test[\"ts\"] = pd.to_datetime(test[\"window_start\"])\n",
    "    \n",
    "train[\"ts\"] = pd.to_datetime(train[\"ts\"])\n",
    "test[\"ts\"]  = pd.to_datetime(test[\"ts\"])\n",
    "\n",
    "full = pd.concat([train, test], ignore_index=True, sort=False)\n",
    "full = full.sort_values(\"ts\").reset_index(drop=True)\n"
   ]
  }
 ],
 "metadata": {
  "kernelspec": {
   "display_name": "roadguardianai",
   "language": "python",
   "name": "python3"
  },
  "language_info": {
   "codemirror_mode": {
    "name": "ipython",
    "version": 3
   },
   "file_extension": ".py",
   "mimetype": "text/x-python",
   "name": "python",
   "nbconvert_exporter": "python",
   "pygments_lexer": "ipython3",
   "version": "3.10.18"
  }
 },
 "nbformat": 4,
 "nbformat_minor": 5
}
