{
 "cells": [
  {
   "cell_type": "code",
   "execution_count": 4,
   "id": "265ff799",
   "metadata": {},
   "outputs": [],
   "source": [
    "import pandas as pd\n",
    "import numpy as np\n",
    "from pathlib import Path\n",
    "\n",
    "HORIZON_HOURS = 1\n",
    "HORIZON = pd.Timedelta(hours=HORIZON_HOURS)\n",
    "\n",
    "TRAIN_PARQUET = Path(\"../data/processed/train_with_hist_shifted_v2.parquet\")\n",
    "TEST_PARQUET  = Path(\"../data/processed/test_with_hist_shifted_v2.parquet\")\n",
    "OUT_DIR = Path(\"../data/processed\")\n",
    "OUT_DIR.mkdir(parents=True, exist_ok=True)"
   ]
  },
  {
   "cell_type": "code",
   "execution_count": 5,
   "id": "410f1344",
   "metadata": {},
   "outputs": [],
   "source": [
    "train = pd.read_parquet(TRAIN_PARQUET)\n",
    "test  = pd.read_parquet(TEST_PARQUET)\n",
    "\n",
    "train = train.copy()\n",
    "test  = test.copy()\n",
    "\n",
    "train[\"__origin\"] = \"train\"\n",
    "test[\"__origin\"]  = \"test\"\n",
    "\n",
    "if \"ts\" not in train.columns:\n",
    "    train[\"ts\"] = pd.to_datetime(train[\"window_start\"])\n",
    "if \"ts\" not in test.columns:\n",
    "    test[\"ts\"] = pd.to_datetime(test[\"window_start\"])\n",
    "    \n",
    "train[\"ts\"] = pd.to_datetime(train[\"ts\"])\n",
    "test[\"ts\"]  = pd.to_datetime(test[\"ts\"])\n",
    "\n",
    "full = pd.concat([train, test], ignore_index=True, sort=False)\n",
    "full = full.sort_values(\"ts\").reset_index(drop=True)\n"
   ]
  },
  {
   "cell_type": "code",
   "execution_count": 6,
   "id": "9bb2f9b3",
   "metadata": {},
   "outputs": [],
   "source": [
    "idx_label = np.zeros(len(full), dtype=np.bool_)\n",
    "idx_censored = np.zeros(len(full), dtype=np.bool_)\n",
    "\n",
    "grp = full.groupby(\"segment_id\")\n",
    "for seg, inds in grp.groups.items():\n",
    "    seg_idx = np.array(inds, dtype=int)\n",
    "    seg_df = full.iloc[seg_idx].sort_values(\"ts\")\n",
    "    seg_ts = seg_df[\"ts\"].values.astype(\"datetime64[ns]\")\n",
    "    severe_mask = seg_df[\"severe\"].astype(int).values\n",
    "    sev_times = seg_ts[severe_mask == 1]\n",
    "    if len(sev_times) == 0:\n",
    "        max_ts = seg_ts.max()\n",
    "        cens = (seg_ts + HORIZON) > np.datetime64(max_ts)\n",
    "        idx_label[seg_idx] = False\n",
    "        idx_censored[seg_idx] = cens\n",
    "        continue\n",
    "    left = np.searchsorted(sev_times, seg_ts, side=\"right\")\n",
    "    right = np.searchsorted(sev_times, seg_ts + HORIZON, side=\"right\")\n",
    "    has_future = (right - left) > 0\n",
    "    idx_label[seg_idx] = has_future\n",
    "    max_ts = seg_ts.max()\n",
    "    cens = (seg_ts + HORIZON) > np.datetime64(max_ts)\n",
    "    idx_censored[seg_idx] = cens"
   ]
  },
  {
   "cell_type": "code",
   "execution_count": 7,
   "id": "3faf7bb1",
   "metadata": {},
   "outputs": [
    {
     "name": "stdout",
     "output_type": "stream",
     "text": [
      "Total rows: 2,196,754\n",
      "Censored rows (no H hours of future data): 224,699 (10.23%)\n",
      "Positive labels (label_1h==1): 125,287 (5.70%)\n"
     ]
    }
   ],
   "source": [
    "full[\"label_1h\"] = idx_label.astype(int)\n",
    "full[\"censored_1h\"] = idx_censored\n",
    "\n",
    "n_total = len(full)\n",
    "n_censored = int(full[\"censored_1h\"].sum())\n",
    "n_label_pos = int(full[\"label_1h\"].sum())\n",
    "print(f\"Total rows: {n_total:,}\")\n",
    "print(f\"Censored rows (no H hours of future data): {n_censored:,} ({n_censored/n_total:.2%})\")\n",
    "print(f\"Positive labels (label_1h==1): {n_label_pos:,} ({n_label_pos/n_total:.2%})\")"
   ]
  },
  {
   "cell_type": "code",
   "execution_count": 8,
   "id": "aea4392c",
   "metadata": {},
   "outputs": [
    {
     "name": "stdout",
     "output_type": "stream",
     "text": [
      "Saved:\n",
      "  ..\\data\\processed\\train_with_label_1h.parquet rows: 1653203\n",
      "  ..\\data\\processed\\test_with_label_1h.parquet rows: 318852\n"
     ]
    }
   ],
   "source": [
    "full_nc = full[~full[\"censored_1h\"]].reset_index(drop=True)\n",
    "\n",
    "train_out = full_nc[full_nc[\"__origin\"] == \"train\"].drop(columns=[\"__origin\"])\n",
    "test_out  = full_nc[full_nc[\"__origin\"] == \"test\"].drop(columns=[\"__origin\"])\n",
    "\n",
    "train_path = OUT_DIR / \"train_with_label_1h.parquet\"\n",
    "test_path  = OUT_DIR / \"test_with_label_1h.parquet\"\n",
    "\n",
    "train_out.to_parquet(train_path, index=False, compression=\"snappy\")\n",
    "test_out.to_parquet(test_path,  index=False, compression=\"snappy\")\n",
    "\n",
    "print(\"Saved:\")\n",
    "print(\" \", train_path, \"rows:\", len(train_out))\n",
    "print(\" \", test_path,  \"rows:\", len(test_out))"
   ]
  },
  {
   "cell_type": "code",
   "execution_count": 9,
   "id": "88541bda",
   "metadata": {},
   "outputs": [
    {
     "name": "stdout",
     "output_type": "stream",
     "text": [
      "Label distribution (train):\n"
     ]
    },
    {
     "data": {
      "text/plain": [
       "label_1h\n",
       "0    1543395\n",
       "1     109808\n",
       "Name: count, dtype: int64"
      ]
     },
     "metadata": {},
     "output_type": "display_data"
    },
    {
     "name": "stdout",
     "output_type": "stream",
     "text": [
      "Label distribution (test):\n"
     ]
    },
    {
     "data": {
      "text/plain": [
       "label_1h\n",
       "0    303430\n",
       "1     15422\n",
       "Name: count, dtype: int64"
      ]
     },
     "metadata": {},
     "output_type": "display_data"
    },
    {
     "name": "stdout",
     "output_type": "stream",
     "text": [
      "Sample positive-label rows:\n"
     ]
    },
    {
     "data": {
      "text/html": [
       "<div>\n",
       "<style scoped>\n",
       "    .dataframe tbody tr th:only-of-type {\n",
       "        vertical-align: middle;\n",
       "    }\n",
       "\n",
       "    .dataframe tbody tr th {\n",
       "        vertical-align: top;\n",
       "    }\n",
       "\n",
       "    .dataframe thead th {\n",
       "        text-align: right;\n",
       "    }\n",
       "</style>\n",
       "<table border=\"1\" class=\"dataframe\">\n",
       "  <thead>\n",
       "    <tr style=\"text-align: right;\">\n",
       "      <th></th>\n",
       "      <th>segment_id</th>\n",
       "      <th>ts</th>\n",
       "      <th>label_1h</th>\n",
       "    </tr>\n",
       "  </thead>\n",
       "  <tbody>\n",
       "    <tr>\n",
       "      <th>5</th>\n",
       "      <td>UNK</td>\n",
       "      <td>2012-07-01 00:21:00</td>\n",
       "      <td>1</td>\n",
       "    </tr>\n",
       "    <tr>\n",
       "      <th>11</th>\n",
       "      <td>UNK</td>\n",
       "      <td>2012-07-01 00:30:00</td>\n",
       "      <td>1</td>\n",
       "    </tr>\n",
       "    <tr>\n",
       "      <th>19</th>\n",
       "      <td>UNK</td>\n",
       "      <td>2012-07-01 01:00:00</td>\n",
       "      <td>1</td>\n",
       "    </tr>\n",
       "    <tr>\n",
       "      <th>76</th>\n",
       "      <td>UNK</td>\n",
       "      <td>2012-07-01 04:45:00</td>\n",
       "      <td>1</td>\n",
       "    </tr>\n",
       "    <tr>\n",
       "      <th>77</th>\n",
       "      <td>UNK</td>\n",
       "      <td>2012-07-01 04:50:00</td>\n",
       "      <td>1</td>\n",
       "    </tr>\n",
       "    <tr>\n",
       "      <th>160</th>\n",
       "      <td>UNK</td>\n",
       "      <td>2012-07-01 11:00:00</td>\n",
       "      <td>1</td>\n",
       "    </tr>\n",
       "    <tr>\n",
       "      <th>171</th>\n",
       "      <td>UNK</td>\n",
       "      <td>2012-07-01 11:30:00</td>\n",
       "      <td>1</td>\n",
       "    </tr>\n",
       "    <tr>\n",
       "      <th>172</th>\n",
       "      <td>UNK</td>\n",
       "      <td>2012-07-01 11:30:00</td>\n",
       "      <td>1</td>\n",
       "    </tr>\n",
       "    <tr>\n",
       "      <th>174</th>\n",
       "      <td>UNK</td>\n",
       "      <td>2012-07-01 11:35:00</td>\n",
       "      <td>1</td>\n",
       "    </tr>\n",
       "    <tr>\n",
       "      <th>179</th>\n",
       "      <td>UNK</td>\n",
       "      <td>2012-07-01 11:45:00</td>\n",
       "      <td>1</td>\n",
       "    </tr>\n",
       "  </tbody>\n",
       "</table>\n",
       "</div>"
      ],
      "text/plain": [
       "    segment_id                  ts  label_1h\n",
       "5          UNK 2012-07-01 00:21:00         1\n",
       "11         UNK 2012-07-01 00:30:00         1\n",
       "19         UNK 2012-07-01 01:00:00         1\n",
       "76         UNK 2012-07-01 04:45:00         1\n",
       "77         UNK 2012-07-01 04:50:00         1\n",
       "160        UNK 2012-07-01 11:00:00         1\n",
       "171        UNK 2012-07-01 11:30:00         1\n",
       "172        UNK 2012-07-01 11:30:00         1\n",
       "174        UNK 2012-07-01 11:35:00         1\n",
       "179        UNK 2012-07-01 11:45:00         1"
      ]
     },
     "metadata": {},
     "output_type": "display_data"
    }
   ],
   "source": [
    "print(\"Label distribution (train):\")\n",
    "display(train_out[\"label_1h\"].value_counts(dropna=False))\n",
    "print(\"Label distribution (test):\")\n",
    "display(test_out[\"label_1h\"].value_counts(dropna=False))\n",
    "\n",
    "print(\"Sample positive-label rows:\")\n",
    "display(full_nc.loc[full_nc[\"label_1h\"]==1, [\"segment_id\",\"ts\",\"label_1h\"]].head(10))"
   ]
  }
 ],
 "metadata": {
  "kernelspec": {
   "display_name": "roadguardianai",
   "language": "python",
   "name": "python3"
  },
  "language_info": {
   "codemirror_mode": {
    "name": "ipython",
    "version": 3
   },
   "file_extension": ".py",
   "mimetype": "text/x-python",
   "name": "python",
   "nbconvert_exporter": "python",
   "pygments_lexer": "ipython3",
   "version": "3.10.18"
  }
 },
 "nbformat": 4,
 "nbformat_minor": 5
}
