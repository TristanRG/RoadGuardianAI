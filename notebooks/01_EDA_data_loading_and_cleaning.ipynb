{
 "cells": [
  {
   "cell_type": "code",
   "execution_count": null,
   "id": "680778e9",
   "metadata": {},
   "outputs": [],
   "source": [
    "import os\n",
    "from pathlib import Path\n",
    "import pandas as pd\n",
    "import numpy as np\n",
    "import matplotlib.pyplot as plt\n",
    "import seaborn as sns\n",
    "\n",
    "sns.set(style=\"whitegrid\")\n",
    "DATA_PATH = Path(\"../data/Motor_Vehicle_Collisions_-_Crashes.csv\")"
   ]
  },
  {
   "cell_type": "code",
   "execution_count": 17,
   "id": "2dfa59d5",
   "metadata": {},
   "outputs": [
    {
     "name": "stdout",
     "output_type": "stream",
     "text": [
      "Exists: True\n",
      "Size (MB): 441.64294052124023\n",
      "..\\data\\Motor_Vehicle_Collisions_-_Crashes.csv\n"
     ]
    }
   ],
   "source": [
    "print(\"Exists:\", DATA_PATH.exists())\n",
    "print(\"Size (MB):\", DATA_PATH.stat().st_size / 1_048_576)\n",
    "print(DATA_PATH) \n"
   ]
  },
  {
   "cell_type": "code",
   "execution_count": 18,
   "id": "6be24631",
   "metadata": {},
   "outputs": [
    {
     "name": "stderr",
     "output_type": "stream",
     "text": [
      "C:\\Users\\trist\\AppData\\Local\\Temp\\ipykernel_9444\\201700135.py:1: DtypeWarning: Columns (3) have mixed types. Specify dtype option on import or set low_memory=False.\n",
      "  df = pd.read_csv(DATA_PATH)\n"
     ]
    },
    {
     "name": "stdout",
     "output_type": "stream",
     "text": [
      "         CRASH DATE CRASH TIME        BOROUGH ZIP CODE   LATITUDE  LONGITUDE  \\\n",
      "0        09/11/2021       2:39            NaN      NaN        NaN        NaN   \n",
      "1        03/26/2022      11:45            NaN      NaN        NaN        NaN   \n",
      "2        11/01/2023       1:29       BROOKLYN  11230.0  40.621790 -73.970024   \n",
      "3        06/29/2022       6:55            NaN      NaN        NaN        NaN   \n",
      "4        09/21/2022      13:21            NaN      NaN        NaN        NaN   \n",
      "...             ...        ...            ...      ...        ...        ...   \n",
      "2196749  08/05/2025      18:55  STATEN ISLAND  10314.0  40.606860 -74.115790   \n",
      "2196750  08/05/2025       6:30            NaN      NaN  40.743477 -73.732860   \n",
      "2196751  08/05/2025      11:14            NaN      NaN  40.786358 -73.794685   \n",
      "2196752  08/05/2025      11:28       BROOKLYN  11226.0  40.652645 -73.949770   \n",
      "2196753  08/05/2025      17:18            NaN      NaN  40.835484 -73.949400   \n",
      "\n",
      "                        LOCATION           ON STREET NAME CROSS STREET NAME  \\\n",
      "0                            NaN    WHITESTONE EXPRESSWAY         20 AVENUE   \n",
      "1                            NaN  QUEENSBORO BRIDGE UPPER               NaN   \n",
      "2         (40.62179, -73.970024)            OCEAN PARKWAY          AVENUE K   \n",
      "3                            NaN       THROGS NECK BRIDGE               NaN   \n",
      "4                            NaN          BROOKLYN BRIDGE               NaN   \n",
      "...                          ...                      ...               ...   \n",
      "2196749    (40.60686, -74.11579)             TODT HILL RD         FINE BLVD   \n",
      "2196750   (40.743477, -73.73286)       GRAND CENTRAL PKWY               NaN   \n",
      "2196751  (40.786358, -73.794685)     CROSS ISLAND PARKWAY               NaN   \n",
      "2196752   (40.652645, -73.94977)             NOSTRAND AVE       LINDEN BLVD   \n",
      "2196753    (40.835484, -73.9494)     HENRY HUDSON PARKWAY               NaN   \n",
      "\n",
      "        OFF STREET NAME  ...  CONTRIBUTING FACTOR VEHICLE 2  \\\n",
      "0                   NaN  ...                    Unspecified   \n",
      "1                   NaN  ...                            NaN   \n",
      "2                   NaN  ...                    Unspecified   \n",
      "3                   NaN  ...                    Unspecified   \n",
      "4                   NaN  ...                    Unspecified   \n",
      "...                 ...  ...                            ...   \n",
      "2196749             NaN  ...                    Unspecified   \n",
      "2196750             NaN  ...                    Unspecified   \n",
      "2196751             NaN  ...                    Unspecified   \n",
      "2196752             NaN  ...                            NaN   \n",
      "2196753             NaN  ...                    Unspecified   \n",
      "\n",
      "         CONTRIBUTING FACTOR VEHICLE 3  CONTRIBUTING FACTOR VEHICLE 4  \\\n",
      "0                                  NaN                            NaN   \n",
      "1                                  NaN                            NaN   \n",
      "2                          Unspecified                            NaN   \n",
      "3                                  NaN                            NaN   \n",
      "4                                  NaN                            NaN   \n",
      "...                                ...                            ...   \n",
      "2196749                            NaN                            NaN   \n",
      "2196750                            NaN                            NaN   \n",
      "2196751                    Unspecified                            NaN   \n",
      "2196752                            NaN                            NaN   \n",
      "2196753                            NaN                            NaN   \n",
      "\n",
      "         CONTRIBUTING FACTOR VEHICLE 5  COLLISION_ID  \\\n",
      "0                                  NaN       4455765   \n",
      "1                                  NaN       4513547   \n",
      "2                                  NaN       4675373   \n",
      "3                                  NaN       4541903   \n",
      "4                                  NaN       4566131   \n",
      "...                                ...           ...   \n",
      "2196749                            NaN       4833195   \n",
      "2196750                            NaN       4833298   \n",
      "2196751                            NaN       4833329   \n",
      "2196752                            NaN       4833168   \n",
      "2196753                            NaN       4833234   \n",
      "\n",
      "                         VEHICLE TYPE CODE 1  \\\n",
      "0                                      Sedan   \n",
      "1                                      Sedan   \n",
      "2                                      Moped   \n",
      "3                                      Sedan   \n",
      "4        Station Wagon/Sport Utility Vehicle   \n",
      "...                                      ...   \n",
      "2196749  Station Wagon/Sport Utility Vehicle   \n",
      "2196750  Station Wagon/Sport Utility Vehicle   \n",
      "2196751                                Sedan   \n",
      "2196752                                Sedan   \n",
      "2196753                                Sedan   \n",
      "\n",
      "                         VEHICLE TYPE CODE 2  VEHICLE TYPE CODE 3  \\\n",
      "0                                      Sedan                  NaN   \n",
      "1                                        NaN                  NaN   \n",
      "2                                      Sedan                Sedan   \n",
      "3                              Pick-up Truck                  NaN   \n",
      "4                                        NaN                  NaN   \n",
      "...                                      ...                  ...   \n",
      "2196749  Station Wagon/Sport Utility Vehicle                  NaN   \n",
      "2196750  Station Wagon/Sport Utility Vehicle                  NaN   \n",
      "2196751                                Sedan        Pick-up Truck   \n",
      "2196752                                Sedan                  NaN   \n",
      "2196753                                Sedan                  NaN   \n",
      "\n",
      "        VEHICLE TYPE CODE 4 VEHICLE TYPE CODE 5  \n",
      "0                       NaN                 NaN  \n",
      "1                       NaN                 NaN  \n",
      "2                       NaN                 NaN  \n",
      "3                       NaN                 NaN  \n",
      "4                       NaN                 NaN  \n",
      "...                     ...                 ...  \n",
      "2196749                 NaN                 NaN  \n",
      "2196750                 NaN                 NaN  \n",
      "2196751                 NaN                 NaN  \n",
      "2196752                 NaN                 NaN  \n",
      "2196753                 NaN                 NaN  \n",
      "\n",
      "[2196754 rows x 29 columns]\n"
     ]
    }
   ],
   "source": [
    "df = pd.read_csv(DATA_PATH)\n",
    "print(df)"
   ]
  }
 ],
 "metadata": {
  "kernelspec": {
   "display_name": "roadguardianai",
   "language": "python",
   "name": "python3"
  },
  "language_info": {
   "codemirror_mode": {
    "name": "ipython",
    "version": 3
   },
   "file_extension": ".py",
   "mimetype": "text/x-python",
   "name": "python",
   "nbconvert_exporter": "python",
   "pygments_lexer": "ipython3",
   "version": "3.10.18"
  }
 },
 "nbformat": 4,
 "nbformat_minor": 5
}
